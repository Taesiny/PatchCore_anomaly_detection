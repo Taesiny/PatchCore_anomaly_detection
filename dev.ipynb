{
 "cells": [
  {
   "cell_type": "code",
   "execution_count": 6,
   "metadata": {},
   "outputs": [],
   "source": [
    "import numpy as np\n",
    "import pandas as pd\n",
    "t = 'latences_2106_initial_batch_1_KNN_Subsampling_1_percentage.txt'"
   ]
  },
  {
   "cell_type": "code",
   "execution_count": 4,
   "metadata": {},
   "outputs": [],
   "source": [
    "import pickle\n",
    "objects = []\n",
    "path = \".\\\\embeddings\\\\carpet\\\\embedding.pickle\"\n",
    "with (open(path, \"rb\")) as openfile:\n",
    "    while True:\n",
    "        try:\n",
    "            objects.append(pickle.load(openfile))\n",
    "        except EOFError:\n",
    "            break"
   ]
  },
  {
   "cell_type": "code",
   "execution_count": 8,
   "metadata": {},
   "outputs": [
    {
     "data": {
      "text/plain": [
       "(219, 1536)"
      ]
     },
     "execution_count": 8,
     "metadata": {},
     "output_type": "execute_result"
    }
   ],
   "source": [
    "objects[0].shape"
   ]
  },
  {
   "cell_type": "code",
   "execution_count": null,
   "metadata": {},
   "outputs": [],
   "source": [
    "torch."
   ]
  },
  {
   "cell_type": "code",
   "execution_count": 20,
   "metadata": {},
   "outputs": [],
   "source": [
    "a = pd.read_csv('.\\\\results\\\\csv\\\\1234.csv', index_col=0)"
   ]
  },
  {
   "cell_type": "code",
   "execution_count": 21,
   "metadata": {},
   "outputs": [],
   "source": [
    "res = 0.90\n",
    "new_row = np.array([res]*a.shape[0])\n",
    "new_row_pd = pd.DataFrame({\"img_auc\": new_row})"
   ]
  },
  {
   "cell_type": "code",
   "execution_count": 22,
   "metadata": {},
   "outputs": [
    {
     "data": {
      "text/html": [
       "<div>\n",
       "<style scoped>\n",
       "    .dataframe tbody tr th:only-of-type {\n",
       "        vertical-align: middle;\n",
       "    }\n",
       "\n",
       "    .dataframe tbody tr th {\n",
       "        vertical-align: top;\n",
       "    }\n",
       "\n",
       "    .dataframe thead th {\n",
       "        text-align: right;\n",
       "    }\n",
       "</style>\n",
       "<table border=\"1\" class=\"dataframe\">\n",
       "  <thead>\n",
       "    <tr style=\"text-align: right;\">\n",
       "      <th></th>\n",
       "      <th>img_auc</th>\n",
       "    </tr>\n",
       "  </thead>\n",
       "  <tbody>\n",
       "    <tr>\n",
       "      <th>0</th>\n",
       "      <td>0.9</td>\n",
       "    </tr>\n",
       "    <tr>\n",
       "      <th>1</th>\n",
       "      <td>0.9</td>\n",
       "    </tr>\n",
       "    <tr>\n",
       "      <th>2</th>\n",
       "      <td>0.9</td>\n",
       "    </tr>\n",
       "    <tr>\n",
       "      <th>3</th>\n",
       "      <td>0.9</td>\n",
       "    </tr>\n",
       "  </tbody>\n",
       "</table>\n",
       "</div>"
      ],
      "text/plain": [
       "   img_auc\n",
       "0      0.9\n",
       "1      0.9\n",
       "2      0.9\n",
       "3      0.9"
      ]
     },
     "execution_count": 22,
     "metadata": {},
     "output_type": "execute_result"
    }
   ],
   "source": [
    "new_row_pd"
   ]
  },
  {
   "cell_type": "code",
   "execution_count": 23,
   "metadata": {},
   "outputs": [
    {
     "data": {
      "text/html": [
       "<div>\n",
       "<style scoped>\n",
       "    .dataframe tbody tr th:only-of-type {\n",
       "        vertical-align: middle;\n",
       "    }\n",
       "\n",
       "    .dataframe tbody tr th {\n",
       "        vertical-align: top;\n",
       "    }\n",
       "\n",
       "    .dataframe thead th {\n",
       "        text-align: right;\n",
       "    }\n",
       "</style>\n",
       "<table border=\"1\" class=\"dataframe\">\n",
       "  <thead>\n",
       "    <tr style=\"text-align: right;\">\n",
       "      <th></th>\n",
       "      <th>#1 feature extraction cpu</th>\n",
       "      <th>#2 feature extraction gpu</th>\n",
       "      <th>#3 embedding of features cpu</th>\n",
       "      <th>#4 embedding of features gpu</th>\n",
       "      <th>#5 search with memory bank cpu</th>\n",
       "      <th>#6 search with memory bank gpu</th>\n",
       "      <th>#7 anomaly map cpu</th>\n",
       "      <th>#8 anomaly map gpu</th>\n",
       "      <th>#9 sum cpu</th>\n",
       "      <th>#10 sum gpu</th>\n",
       "      <th>#11 whole process cpu</th>\n",
       "      <th>#12 whole process gpu</th>\n",
       "      <th>#13 preparation memory bank</th>\n",
       "      <th>batch_size</th>\n",
       "      <th>input_size</th>\n",
       "      <th>coreset_sampling_ratio</th>\n",
       "      <th>n_neighbors</th>\n",
       "      <th>patch_size</th>\n",
       "      <th>resulting_features</th>\n",
       "      <th>img_auc</th>\n",
       "    </tr>\n",
       "  </thead>\n",
       "  <tbody>\n",
       "    <tr>\n",
       "      <th>0</th>\n",
       "      <td>0.071850</td>\n",
       "      <td>0.380694</td>\n",
       "      <td>0.534967</td>\n",
       "      <td>0.227191</td>\n",
       "      <td>0.242007</td>\n",
       "      <td>0.241840</td>\n",
       "      <td>0.953473</td>\n",
       "      <td>0.954173</td>\n",
       "      <td>1.802298</td>\n",
       "      <td>1.803898</td>\n",
       "      <td>1.814195</td>\n",
       "      <td>1.814264</td>\n",
       "      <td>4.31682</td>\n",
       "      <td>56</td>\n",
       "      <td>64</td>\n",
       "      <td>0.01</td>\n",
       "      <td>9</td>\n",
       "      <td>AvgPool2d(kernel_size=3, stride=1, padding=1)</td>\n",
       "      <td>256</td>\n",
       "      <td>0.9</td>\n",
       "    </tr>\n",
       "    <tr>\n",
       "      <th>1</th>\n",
       "      <td>0.070729</td>\n",
       "      <td>0.520765</td>\n",
       "      <td>0.696608</td>\n",
       "      <td>0.247636</td>\n",
       "      <td>0.240538</td>\n",
       "      <td>0.240348</td>\n",
       "      <td>0.944339</td>\n",
       "      <td>0.945044</td>\n",
       "      <td>1.952215</td>\n",
       "      <td>1.953793</td>\n",
       "      <td>1.964618</td>\n",
       "      <td>1.964702</td>\n",
       "      <td>4.31682</td>\n",
       "      <td>56</td>\n",
       "      <td>64</td>\n",
       "      <td>0.01</td>\n",
       "      <td>9</td>\n",
       "      <td>AvgPool2d(kernel_size=3, stride=1, padding=1)</td>\n",
       "      <td>256</td>\n",
       "      <td>0.9</td>\n",
       "    </tr>\n",
       "    <tr>\n",
       "      <th>2</th>\n",
       "      <td>0.071019</td>\n",
       "      <td>0.403751</td>\n",
       "      <td>0.566768</td>\n",
       "      <td>0.235073</td>\n",
       "      <td>0.240014</td>\n",
       "      <td>0.239839</td>\n",
       "      <td>0.960378</td>\n",
       "      <td>0.960914</td>\n",
       "      <td>1.838178</td>\n",
       "      <td>1.839577</td>\n",
       "      <td>1.849678</td>\n",
       "      <td>1.849783</td>\n",
       "      <td>4.31682</td>\n",
       "      <td>56</td>\n",
       "      <td>64</td>\n",
       "      <td>0.01</td>\n",
       "      <td>9</td>\n",
       "      <td>AvgPool2d(kernel_size=3, stride=1, padding=1)</td>\n",
       "      <td>256</td>\n",
       "      <td>0.9</td>\n",
       "    </tr>\n",
       "    <tr>\n",
       "      <th>3</th>\n",
       "      <td>0.080271</td>\n",
       "      <td>0.542230</td>\n",
       "      <td>0.708157</td>\n",
       "      <td>0.247286</td>\n",
       "      <td>0.240345</td>\n",
       "      <td>0.240124</td>\n",
       "      <td>1.019501</td>\n",
       "      <td>1.020211</td>\n",
       "      <td>2.048275</td>\n",
       "      <td>2.049851</td>\n",
       "      <td>2.061186</td>\n",
       "      <td>2.061302</td>\n",
       "      <td>4.31682</td>\n",
       "      <td>56</td>\n",
       "      <td>64</td>\n",
       "      <td>0.01</td>\n",
       "      <td>9</td>\n",
       "      <td>AvgPool2d(kernel_size=3, stride=1, padding=1)</td>\n",
       "      <td>256</td>\n",
       "      <td>0.9</td>\n",
       "    </tr>\n",
       "  </tbody>\n",
       "</table>\n",
       "</div>"
      ],
      "text/plain": [
       "   #1 feature extraction cpu  #2 feature extraction gpu  \\\n",
       "0                   0.071850                   0.380694   \n",
       "1                   0.070729                   0.520765   \n",
       "2                   0.071019                   0.403751   \n",
       "3                   0.080271                   0.542230   \n",
       "\n",
       "   #3 embedding of features cpu  #4 embedding of features gpu  \\\n",
       "0                      0.534967                      0.227191   \n",
       "1                      0.696608                      0.247636   \n",
       "2                      0.566768                      0.235073   \n",
       "3                      0.708157                      0.247286   \n",
       "\n",
       "   #5 search with memory bank cpu  #6 search with memory bank gpu  \\\n",
       "0                        0.242007                        0.241840   \n",
       "1                        0.240538                        0.240348   \n",
       "2                        0.240014                        0.239839   \n",
       "3                        0.240345                        0.240124   \n",
       "\n",
       "   #7 anomaly map cpu  #8 anomaly map gpu  #9 sum cpu  #10 sum gpu  \\\n",
       "0            0.953473            0.954173    1.802298     1.803898   \n",
       "1            0.944339            0.945044    1.952215     1.953793   \n",
       "2            0.960378            0.960914    1.838178     1.839577   \n",
       "3            1.019501            1.020211    2.048275     2.049851   \n",
       "\n",
       "   #11 whole process cpu  #12 whole process gpu  #13 preparation memory bank  \\\n",
       "0               1.814195               1.814264                      4.31682   \n",
       "1               1.964618               1.964702                      4.31682   \n",
       "2               1.849678               1.849783                      4.31682   \n",
       "3               2.061186               2.061302                      4.31682   \n",
       "\n",
       "   batch_size  input_size  coreset_sampling_ratio  n_neighbors  \\\n",
       "0          56          64                    0.01            9   \n",
       "1          56          64                    0.01            9   \n",
       "2          56          64                    0.01            9   \n",
       "3          56          64                    0.01            9   \n",
       "\n",
       "                                      patch_size  resulting_features  img_auc  \n",
       "0  AvgPool2d(kernel_size=3, stride=1, padding=1)                 256      0.9  \n",
       "1  AvgPool2d(kernel_size=3, stride=1, padding=1)                 256      0.9  \n",
       "2  AvgPool2d(kernel_size=3, stride=1, padding=1)                 256      0.9  \n",
       "3  AvgPool2d(kernel_size=3, stride=1, padding=1)                 256      0.9  "
      ]
     },
     "execution_count": 23,
     "metadata": {},
     "output_type": "execute_result"
    }
   ],
   "source": [
    "pd.concat([a, new_row_pd], axis=1)"
   ]
  },
  {
   "cell_type": "code",
   "execution_count": 2,
   "metadata": {},
   "outputs": [],
   "source": [
    "import numpy as np\n",
    "d = 64                           # dimension\n",
    "nb = 100000                      # database size\n",
    "nq = 10000                       # nb of queries\n",
    "np.random.seed(1234)             # make reproducible\n",
    "xb = np.random.random((nb, d)).astype('float32')\n",
    "xb[:, 0] += np.arange(nb) / 1000.\n",
    "xq = np.random.random((nq, d)).astype('float32')\n",
    "xq[:, 0] += np.arange(nq) / 1000."
   ]
  },
  {
   "cell_type": "code",
   "execution_count": 3,
   "metadata": {},
   "outputs": [
    {
     "name": "stdout",
     "output_type": "stream",
     "text": [
      "True\n",
      "100000\n"
     ]
    }
   ],
   "source": [
    "import faiss                   # make faiss available\n",
    "index = faiss.IndexFlatL2(d)   # build the index\n",
    "print(index.is_trained)\n",
    "index.add(xb)                  # add vectors to the index\n",
    "print(index.ntotal)"
   ]
  },
  {
   "cell_type": "code",
   "execution_count": 4,
   "metadata": {},
   "outputs": [
    {
     "name": "stdout",
     "output_type": "stream",
     "text": [
      "[[  0 393 363  78]\n",
      " [  1 555 277 364]\n",
      " [  2 304 101  13]\n",
      " [  3 173  18 182]\n",
      " [  4 288 370 531]]\n",
      "[[0.        7.175174  7.2076287 7.251163 ]\n",
      " [0.        6.323565  6.684582  6.799944 ]\n",
      " [0.        5.7964087 6.3917365 7.2815127]\n",
      " [0.        7.277905  7.5279875 7.6628447]\n",
      " [0.        6.763804  7.295122  7.368814 ]]\n",
      "[[ 381  207  210  477]\n",
      " [ 526  911  142   72]\n",
      " [ 838  527 1290  425]\n",
      " [ 196  184  164  359]\n",
      " [ 526  377  120  425]]\n",
      "[[ 9900 10500  9309  9831]\n",
      " [11055 10895 10812 11321]\n",
      " [11353 11103 10164  9787]\n",
      " [10571 10664 10632  9638]\n",
      " [ 9628  9554 10036  9582]]\n"
     ]
    }
   ],
   "source": [
    "k = 4                          # we want to see 4 nearest neighbors\n",
    "D, I = index.search(xb[:5], k) # sanity check\n",
    "print(I)\n",
    "print(D)\n",
    "D, I = index.search(xq, k)     # actual search\n",
    "print(I[:5])                   # neighbors of the 5 first queries\n",
    "print(I[-5:])                  # neighbors of the 5 last queries"
   ]
  },
  {
   "cell_type": "code",
   "execution_count": 2,
   "metadata": {},
   "outputs": [],
   "source": [
    "import torch"
   ]
  },
  {
   "cell_type": "code",
   "execution_count": 11,
   "metadata": {},
   "outputs": [],
   "source": [
    "a = torch.nn.AvgPool3d(kernel_size=3, stride=(2,1,1), padding=0)\n",
    "b = torch.ones(12,32,64,64)"
   ]
  },
  {
   "cell_type": "code",
   "execution_count": 12,
   "metadata": {},
   "outputs": [
    {
     "data": {
      "text/plain": [
       "torch.Size([12, 15, 62, 62])"
      ]
     },
     "execution_count": 12,
     "metadata": {},
     "output_type": "execute_result"
    }
   ],
   "source": [
    "a(b).size()"
   ]
  },
  {
   "cell_type": "code",
   "execution_count": 6,
   "metadata": {},
   "outputs": [
    {
     "name": "stdout",
     "output_type": "stream",
     "text": [
      "0\n",
      "1\n",
      "1\n",
      "12\n",
      "2\n",
      "4\n"
     ]
    }
   ],
   "source": [
    "a = [(1,2),(12,4),(4,1)]\n",
    "for k, (l, j) in enumerate(a):\n",
    "    print(k)\n",
    "    print(l)"
   ]
  },
  {
   "cell_type": "code",
   "execution_count": 6,
   "metadata": {},
   "outputs": [],
   "source": [
    "a = int(1e6)"
   ]
  },
  {
   "cell_type": "code",
   "execution_count": 9,
   "metadata": {},
   "outputs": [],
   "source": [
    "from enum import Enum\n",
    "class Acceler(Enum):\n",
    "    gpu = 1\n",
    "    cpu = 2"
   ]
  },
  {
   "cell_type": "code",
   "execution_count": 11,
   "metadata": {},
   "outputs": [
    {
     "data": {
      "text/plain": [
       "'gpu'"
      ]
     },
     "execution_count": 11,
     "metadata": {},
     "output_type": "execute_result"
    }
   ],
   "source": [
    "Acceler(1).name"
   ]
  },
  {
   "cell_type": "code",
   "execution_count": 13,
   "metadata": {},
   "outputs": [
    {
     "name": "stderr",
     "output_type": "stream",
     "text": [
      "UsageError: Line magic function `%%timeit` not found.\n"
     ]
    }
   ],
   "source": [
    "import timeit\n",
    "%%timeit -r5 -n10\n",
    "# find sum to first 1 million numbers\n",
    "sum_x = 0\n",
    "for i in range(1000000):\n",
    "    sum_x += i"
   ]
  },
  {
   "cell_type": "code",
   "execution_count": 14,
   "metadata": {},
   "outputs": [
    {
     "data": {
      "text/plain": [
       "1.0"
      ]
     },
     "execution_count": 14,
     "metadata": {},
     "output_type": "execute_result"
    }
   ],
   "source": [
    "float(1)"
   ]
  },
  {
   "cell_type": "code",
   "execution_count": 15,
   "metadata": {},
   "outputs": [
    {
     "data": {
      "text/plain": [
       "1000.0"
      ]
     },
     "execution_count": 15,
     "metadata": {},
     "output_type": "execute_result"
    }
   ],
   "source": [
    "1e3"
   ]
  },
  {
   "cell_type": "code",
   "execution_count": 17,
   "metadata": {},
   "outputs": [
    {
     "name": "stdout",
     "output_type": "stream",
     "text": [
      "FCK\n",
      "FCK\n",
      "FCK\n",
      "FCK\n",
      "FCK\n",
      "FCK\n",
      "FCK\n",
      "FCK\n",
      "FCK\n",
      "FCK\n"
     ]
    }
   ],
   "source": [
    "warm_up = 10\n",
    "for _ in range(warm_up):\n",
    "    print('FCK')"
   ]
  },
  {
   "cell_type": "code",
   "execution_count": null,
   "metadata": {},
   "outputs": [],
   "source": []
  }
 ],
 "metadata": {
  "kernelspec": {
   "display_name": "Python 3.10.4 64-bit",
   "language": "python",
   "name": "python3"
  },
  "language_info": {
   "codemirror_mode": {
    "name": "ipython",
    "version": 3
   },
   "file_extension": ".py",
   "mimetype": "text/x-python",
   "name": "python",
   "nbconvert_exporter": "python",
   "pygments_lexer": "ipython3",
   "version": "3.10.4"
  },
  "orig_nbformat": 4,
  "vscode": {
   "interpreter": {
    "hash": "7d3132c63595c5bd9835a7d3d4e82d2178644ed42d28c98d306a1f36334182b0"
   }
  }
 },
 "nbformat": 4,
 "nbformat_minor": 2
}
